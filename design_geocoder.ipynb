{
 "cells": [
  {
   "cell_type": "code",
   "execution_count": 2,
   "id": "75044bae",
   "metadata": {},
   "outputs": [],
   "source": [
    "import pandas as pd\n",
    "from pygris.geocode import batch_geocode"
   ]
  },
  {
   "cell_type": "code",
   "execution_count": null,
   "id": "792faee2",
   "metadata": {},
   "outputs": [],
   "source": [
    "sources = pd.read_csv(\"./etl/conf/sources.csv\")\n",
    "frame = pd.read_excel(sources.iloc[-1][\"source_file\"])\n",
    "\n",
    "responses = batch_geocode(frame, id_column=\"License Number\", address=\"Address\", \n",
    "                          city=\"City\", state=\"State\", zip=\"Zip Code\")"
   ]
  },
  {
   "cell_type": "code",
   "execution_count": null,
   "id": "1e034694",
   "metadata": {},
   "outputs": [],
   "source": [
    "# Remember that all we want is the response columns\n",
    "\n",
    "id_column = \"License Number\"\n",
    "merged = frame.merge(responses.sample(len(responses) - 30), left_on=id_column, right_on=\"id\", how=\"left\")\n",
    "\n",
    "\n",
    "merged[~merged[\"id\"].isna()][responses.columns]"
   ]
  },
  {
   "cell_type": "code",
   "execution_count": 31,
   "id": "c4f5e731",
   "metadata": {},
   "outputs": [
    {
     "data": {
      "text/plain": [
       "Index(['id', 'address', 'status', 'match_quality', 'matched_address',\n",
       "       'tiger_line_id', 'tiger_side', 'state', 'county', 'tract', 'block',\n",
       "       'longitude', 'latitude'],\n",
       "      dtype='object')"
      ]
     },
     "execution_count": 31,
     "metadata": {},
     "output_type": "execute_result"
    }
   ],
   "source": [
    "responses.columns"
   ]
  },
  {
   "cell_type": "code",
   "execution_count": null,
   "id": "f332fb66",
   "metadata": {},
   "outputs": [],
   "source": [
    "# The input df and the output df have the same columns sometimes\n",
    "\n",
    "accumulation = pd.DataFrame(\n",
    "    data=[], columns=[id_column, 'address', 'status', 'match_quality', 'matched_address',\n",
    "    'tiger_line_id', 'tiger_side', 'state', 'county', 'tract', 'block',\n",
    "    'longitude', 'latitude', 'start_date', 'end_date']\n",
    ")\n",
    "\n",
    "# there is no ambiguity per iteration on the id_column \n",
    "\n",
    "seen = pd.DataFrame(\n",
    "    data=[], columns=[id_column, 'address', 'city', 'state', 'zip_code']\n",
    ")\n",
    "\n",
    "# Accumulation DF -- Starts empty. This is only what is returned from the geocoder (which includes id_column [rename this]) + start_date, end_date\n",
    "# Seen DF -- Starts empty. This has all the columns that are provided to 'batch_geocode': [id_column, address, city, state, zip_code]\n",
    "\n",
    "# Input DF -> \n",
    "# 1. see if the address has been geocoded using the seen df (using merge)\n",
    "#    - IF in seen\n",
    "#          we want to copy the rows from accumulation, adding them with new start_date, end_date\n",
    "#    - ELSE\n",
    "#          send to geocoder"
   ]
  },
  {
   "cell_type": "code",
   "execution_count": null,
   "id": "b06d0edf",
   "metadata": {},
   "outputs": [],
   "source": []
  }
 ],
 "metadata": {
  "kernelspec": {
   "display_name": "gstq-etl",
   "language": "python",
   "name": "python3"
  },
  "language_info": {
   "codemirror_mode": {
    "name": "ipython",
    "version": 3
   },
   "file_extension": ".py",
   "mimetype": "text/x-python",
   "name": "python",
   "nbconvert_exporter": "python",
   "pygments_lexer": "ipython3",
   "version": "3.13.3"
  }
 },
 "nbformat": 4,
 "nbformat_minor": 5
}
